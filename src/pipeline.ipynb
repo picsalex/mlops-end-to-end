{
 "cells": [
  {
   "cell_type": "markdown",
   "metadata": {
    "collapsed": false,
    "jupyter": {
     "outputs_hidden": false
    }
   },
   "source": [
    "# Introduction\n",
    "Load the `autoreload` module to automatically update the imported modules from the `src/` folder."
   ]
  },
  {
   "cell_type": "code",
   "execution_count": 27,
   "metadata": {
    "collapsed": false,
    "jupyter": {
     "outputs_hidden": false
    },
    "ExecuteTime": {
     "end_time": "2023-11-05T19:33:23.758709Z",
     "start_time": "2023-11-05T19:33:23.728782Z"
    }
   },
   "outputs": [
    {
     "name": "stdout",
     "output_type": "stream",
     "text": [
      "The autoreload extension is already loaded. To reload it, use:\n",
      "  %reload_ext autoreload\n",
      "cannot find .env file\n"
     ]
    }
   ],
   "source": [
    "\n",
    "%load_ext autoreload\n",
    "%autoreload 2\n",
    "\n",
    "%load_ext dotenv\n",
    "%dotenv"
   ]
  },
  {
   "cell_type": "markdown",
   "metadata": {
    "collapsed": false,
    "jupyter": {
     "outputs_hidden": false
    }
   },
   "source": [
    "# 1. Data preparation\n",
    "Retrieve the dataset along its metadata, prepare it depending on the task you have to do (segmentation, object detection or classification)."
   ]
  },
  {
   "cell_type": "code",
   "execution_count": 13,
   "metadata": {
    "collapsed": false,
    "jupyter": {
     "outputs_hidden": false
    },
    "ExecuteTime": {
     "end_time": "2023-11-05T17:59:41.384355Z",
     "start_time": "2023-11-05T17:59:41.015499Z"
    }
   },
   "outputs": [
    {
     "name": "stderr",
     "output_type": "stream",
     "text": [
      "/Users/alexis/Library/Caches/pypoetry/virtualenvs/mlops-end-to-end-5J0KpUnH-py3.11/lib/python3.11/site-packages/prefect/tasks.py:332: UserWarning: A task named 'check_connection' and defined at '/Users/alexis/Documents/Projects/Perso/mlops-end-to-end/src/data/preparation.py:19' conflicts with another task. Consider specifying a unique `name` parameter in the task definition:\n",
      "\n",
      " `@task(name='my_unique_name', ...)`\n",
      "  warnings.warn(\n",
      "/Users/alexis/Library/Caches/pypoetry/virtualenvs/mlops-end-to-end-5J0KpUnH-py3.11/lib/python3.11/site-packages/prefect/tasks.py:332: UserWarning: A task named 'check_bucket_exists' and defined at '/Users/alexis/Documents/Projects/Perso/mlops-end-to-end/src/data/preparation.py:24' conflicts with another task. Consider specifying a unique `name` parameter in the task definition:\n",
      "\n",
      " `@task(name='my_unique_name', ...)`\n",
      "  warnings.warn(\n",
      "/Users/alexis/Library/Caches/pypoetry/virtualenvs/mlops-end-to-end-5J0KpUnH-py3.11/lib/python3.11/site-packages/prefect/tasks.py:332: UserWarning: A task named 'upload_data' and defined at '/Users/alexis/Documents/Projects/Perso/mlops-end-to-end/src/data/preparation.py:30' conflicts with another task. Consider specifying a unique `name` parameter in the task definition:\n",
      "\n",
      " `@task(name='my_unique_name', ...)`\n",
      "  warnings.warn(\n",
      "/Users/alexis/Library/Caches/pypoetry/virtualenvs/mlops-end-to-end-5J0KpUnH-py3.11/lib/python3.11/site-packages/prefect/flows.py:330: UserWarning: A flow named 'data_preparation' and defined at '/Users/alexis/Documents/Projects/Perso/mlops-end-to-end/src/data/preparation.py:43' conflicts with another flow. Consider specifying a unique `name` parameter in the flow definition:\n",
      "\n",
      " `@flow(name='my_unique_name', ...)`\n",
      "  warnings.warn(\n"
     ]
    },
    {
     "data": {
      "text/plain": "18:59:41.120 | \u001B[36mINFO\u001B[0m    | prefect.engine - Created flow run\u001B[35m 'mysterious-bear'\u001B[0m for flow\u001B[1;35m 'data_preparation'\u001B[0m\n",
      "text/html": "<pre style=\"white-space:pre;overflow-x:auto;line-height:normal;font-family:Menlo,'DejaVu Sans Mono',consolas,'Courier New',monospace\">18:59:41.120 | <span style=\"color: #008080; text-decoration-color: #008080\">INFO</span>    | prefect.engine - Created flow run<span style=\"color: #800080; text-decoration-color: #800080\"> 'mysterious-bear'</span> for flow<span style=\"color: #800080; text-decoration-color: #800080; font-weight: bold\"> 'data_preparation'</span>\n</pre>\n"
     },
     "metadata": {},
     "output_type": "display_data"
    },
    {
     "data": {
      "text/plain": "18:59:41.163 | \u001B[36mINFO\u001B[0m    | Flow run\u001B[35m 'mysterious-bear'\u001B[0m - Created task run 'check_connection-0' for task 'check_connection'\n",
      "text/html": "<pre style=\"white-space:pre;overflow-x:auto;line-height:normal;font-family:Menlo,'DejaVu Sans Mono',consolas,'Courier New',monospace\">18:59:41.163 | <span style=\"color: #008080; text-decoration-color: #008080\">INFO</span>    | Flow run<span style=\"color: #800080; text-decoration-color: #800080\"> 'mysterious-bear'</span> - Created task run 'check_connection-0' for task 'check_connection'\n</pre>\n"
     },
     "metadata": {},
     "output_type": "display_data"
    },
    {
     "data": {
      "text/plain": "18:59:41.165 | \u001B[36mINFO\u001B[0m    | Flow run\u001B[35m 'mysterious-bear'\u001B[0m - Executing 'check_connection-0' immediately...\n",
      "text/html": "<pre style=\"white-space:pre;overflow-x:auto;line-height:normal;font-family:Menlo,'DejaVu Sans Mono',consolas,'Courier New',monospace\">18:59:41.165 | <span style=\"color: #008080; text-decoration-color: #008080\">INFO</span>    | Flow run<span style=\"color: #800080; text-decoration-color: #800080\"> 'mysterious-bear'</span> - Executing 'check_connection-0' immediately...\n</pre>\n"
     },
     "metadata": {},
     "output_type": "display_data"
    },
    {
     "data": {
      "text/plain": "18:59:41.215 | \u001B[36mINFO\u001B[0m    | Task run 'check_connection-0' - Finished in state \u001B[32mCompleted\u001B[0m()\n",
      "text/html": "<pre style=\"white-space:pre;overflow-x:auto;line-height:normal;font-family:Menlo,'DejaVu Sans Mono',consolas,'Courier New',monospace\">18:59:41.215 | <span style=\"color: #008080; text-decoration-color: #008080\">INFO</span>    | Task run 'check_connection-0' - Finished in state <span style=\"color: #008000; text-decoration-color: #008000\">Completed</span>()\n</pre>\n"
     },
     "metadata": {},
     "output_type": "display_data"
    },
    {
     "data": {
      "text/plain": "18:59:41.228 | \u001B[36mINFO\u001B[0m    | Flow run\u001B[35m 'mysterious-bear'\u001B[0m - Created task run 'check_bucket_exists-0' for task 'check_bucket_exists'\n",
      "text/html": "<pre style=\"white-space:pre;overflow-x:auto;line-height:normal;font-family:Menlo,'DejaVu Sans Mono',consolas,'Courier New',monospace\">18:59:41.228 | <span style=\"color: #008080; text-decoration-color: #008080\">INFO</span>    | Flow run<span style=\"color: #800080; text-decoration-color: #800080\"> 'mysterious-bear'</span> - Created task run 'check_bucket_exists-0' for task 'check_bucket_exists'\n</pre>\n"
     },
     "metadata": {},
     "output_type": "display_data"
    },
    {
     "data": {
      "text/plain": "18:59:41.230 | \u001B[36mINFO\u001B[0m    | Flow run\u001B[35m 'mysterious-bear'\u001B[0m - Executing 'check_bucket_exists-0' immediately...\n",
      "text/html": "<pre style=\"white-space:pre;overflow-x:auto;line-height:normal;font-family:Menlo,'DejaVu Sans Mono',consolas,'Courier New',monospace\">18:59:41.230 | <span style=\"color: #008080; text-decoration-color: #008080\">INFO</span>    | Flow run<span style=\"color: #800080; text-decoration-color: #800080\"> 'mysterious-bear'</span> - Executing 'check_bucket_exists-0' immediately...\n</pre>\n"
     },
     "metadata": {},
     "output_type": "display_data"
    },
    {
     "data": {
      "text/plain": "18:59:41.282 | \u001B[36mINFO\u001B[0m    | Task run 'check_bucket_exists-0' - Finished in state \u001B[32mCompleted\u001B[0m()\n",
      "text/html": "<pre style=\"white-space:pre;overflow-x:auto;line-height:normal;font-family:Menlo,'DejaVu Sans Mono',consolas,'Courier New',monospace\">18:59:41.282 | <span style=\"color: #008080; text-decoration-color: #008080\">INFO</span>    | Task run 'check_bucket_exists-0' - Finished in state <span style=\"color: #008000; text-decoration-color: #008000\">Completed</span>()\n</pre>\n"
     },
     "metadata": {},
     "output_type": "display_data"
    },
    {
     "data": {
      "text/plain": "18:59:41.296 | \u001B[36mINFO\u001B[0m    | Flow run\u001B[35m 'mysterious-bear'\u001B[0m - Created task run 'upload_data-0' for task 'upload_data'\n",
      "text/html": "<pre style=\"white-space:pre;overflow-x:auto;line-height:normal;font-family:Menlo,'DejaVu Sans Mono',consolas,'Courier New',monospace\">18:59:41.296 | <span style=\"color: #008080; text-decoration-color: #008080\">INFO</span>    | Flow run<span style=\"color: #800080; text-decoration-color: #800080\"> 'mysterious-bear'</span> - Created task run 'upload_data-0' for task 'upload_data'\n</pre>\n"
     },
     "metadata": {},
     "output_type": "display_data"
    },
    {
     "data": {
      "text/plain": "18:59:41.297 | \u001B[36mINFO\u001B[0m    | Flow run\u001B[35m 'mysterious-bear'\u001B[0m - Executing 'upload_data-0' immediately...\n",
      "text/html": "<pre style=\"white-space:pre;overflow-x:auto;line-height:normal;font-family:Menlo,'DejaVu Sans Mono',consolas,'Courier New',monospace\">18:59:41.297 | <span style=\"color: #008080; text-decoration-color: #008080\">INFO</span>    | Flow run<span style=\"color: #800080; text-decoration-color: #800080\"> 'mysterious-bear'</span> - Executing 'upload_data-0' immediately...\n</pre>\n"
     },
     "metadata": {},
     "output_type": "display_data"
    },
    {
     "data": {
      "text/plain": "18:59:41.348 | \u001B[36mINFO\u001B[0m    | Task run 'upload_data-0' - Finished in state \u001B[32mCompleted\u001B[0m()\n",
      "text/html": "<pre style=\"white-space:pre;overflow-x:auto;line-height:normal;font-family:Menlo,'DejaVu Sans Mono',consolas,'Courier New',monospace\">18:59:41.348 | <span style=\"color: #008080; text-decoration-color: #008080\">INFO</span>    | Task run 'upload_data-0' - Finished in state <span style=\"color: #008000; text-decoration-color: #008000\">Completed</span>()\n</pre>\n"
     },
     "metadata": {},
     "output_type": "display_data"
    },
    {
     "data": {
      "text/plain": "18:59:41.367 | \u001B[36mINFO\u001B[0m    | Flow run\u001B[35m 'mysterious-bear'\u001B[0m - Finished in state \u001B[32mCompleted\u001B[0m('All states completed.')\n",
      "text/html": "<pre style=\"white-space:pre;overflow-x:auto;line-height:normal;font-family:Menlo,'DejaVu Sans Mono',consolas,'Courier New',monospace\">18:59:41.367 | <span style=\"color: #008080; text-decoration-color: #008080\">INFO</span>    | Flow run<span style=\"color: #800080; text-decoration-color: #800080\"> 'mysterious-bear'</span> - Finished in state <span style=\"color: #008000; text-decoration-color: #008000\">Completed</span>('All states completed.')\n</pre>\n"
     },
     "metadata": {},
     "output_type": "display_data"
    },
    {
     "data": {
      "text/plain": "[Completed(message=None, type=COMPLETED, result=UnpersistedResult(type='unpersisted', artifact_type='result', artifact_description='Unpersisted result of type `bool`')),\n Completed(message=None, type=COMPLETED, result=UnpersistedResult(type='unpersisted', artifact_type='result', artifact_description='Unpersisted result of type `NoneType`')),\n Completed(message=None, type=COMPLETED, result=UnpersistedResult(type='unpersisted', artifact_type='result', artifact_description='Unpersisted result of type `NoneType`'))]"
     },
     "execution_count": 13,
     "metadata": {},
     "output_type": "execute_result"
    }
   ],
   "source": [
    "from data.preparation import data_preparation\n",
    "\n",
    "data_preparation(data_path=\"dataset\")"
   ]
  },
  {
   "cell_type": "code",
   "execution_count": 21,
   "outputs": [
    {
     "name": "stderr",
     "output_type": "stream",
     "text": [
      "/Users/alexis/Library/Caches/pypoetry/virtualenvs/mlops-end-to-end-5J0KpUnH-py3.11/lib/python3.11/site-packages/prefect/flows.py:330: UserWarning: A flow named 'toto2' and defined at '/var/folders/_z/rgsjntcn20bcl890rl1qv2pr0000gn/T/ipykernel_6905/614455222.py:5' conflicts with another flow. Consider specifying a unique `name` parameter in the flow definition:\n",
      "\n",
      " `@flow(name='my_unique_name', ...)`\n",
      "  warnings.warn(\n"
     ]
    },
    {
     "data": {
      "text/plain": "20:04:03.966 | \u001B[36mINFO\u001B[0m    | prefect.engine - Created flow run\u001B[35m 'sage-urchin'\u001B[0m for flow\u001B[1;35m 'toto2'\u001B[0m\n",
      "text/html": "<pre style=\"white-space:pre;overflow-x:auto;line-height:normal;font-family:Menlo,'DejaVu Sans Mono',consolas,'Courier New',monospace\">20:04:03.966 | <span style=\"color: #008080; text-decoration-color: #008080\">INFO</span>    | prefect.engine - Created flow run<span style=\"color: #800080; text-decoration-color: #800080\"> 'sage-urchin'</span> for flow<span style=\"color: #800080; text-decoration-color: #800080; font-weight: bold\"> 'toto2'</span>\n</pre>\n"
     },
     "metadata": {},
     "output_type": "display_data"
    },
    {
     "data": {
      "text/plain": "20:04:04.209 | \u001B[36mINFO\u001B[0m    | Flow run\u001B[35m 'sage-urchin'\u001B[0m - PrefectHQ/prefect repository statistics 🤓:\n",
      "text/html": "<pre style=\"white-space:pre;overflow-x:auto;line-height:normal;font-family:Menlo,'DejaVu Sans Mono',consolas,'Courier New',monospace\">20:04:04.209 | <span style=\"color: #008080; text-decoration-color: #008080\">INFO</span>    | Flow run<span style=\"color: #800080; text-decoration-color: #800080\"> 'sage-urchin'</span> - PrefectHQ/prefect repository statistics 🤓:\n</pre>\n"
     },
     "metadata": {},
     "output_type": "display_data"
    },
    {
     "data": {
      "text/plain": "20:04:04.213 | \u001B[36mINFO\u001B[0m    | Flow run\u001B[35m 'sage-urchin'\u001B[0m - Stars 🌠 : 13153\n",
      "text/html": "<pre style=\"white-space:pre;overflow-x:auto;line-height:normal;font-family:Menlo,'DejaVu Sans Mono',consolas,'Courier New',monospace\">20:04:04.213 | <span style=\"color: #008080; text-decoration-color: #008080\">INFO</span>    | Flow run<span style=\"color: #800080; text-decoration-color: #800080\"> 'sage-urchin'</span> - Stars 🌠 : 13153\n</pre>\n"
     },
     "metadata": {},
     "output_type": "display_data"
    },
    {
     "data": {
      "text/plain": "20:04:04.214 | \u001B[36mINFO\u001B[0m    | Flow run\u001B[35m 'sage-urchin'\u001B[0m - Forks 🍴 : 1370\n",
      "text/html": "<pre style=\"white-space:pre;overflow-x:auto;line-height:normal;font-family:Menlo,'DejaVu Sans Mono',consolas,'Courier New',monospace\">20:04:04.214 | <span style=\"color: #008080; text-decoration-color: #008080\">INFO</span>    | Flow run<span style=\"color: #800080; text-decoration-color: #800080\"> 'sage-urchin'</span> - Forks 🍴 : 1370\n</pre>\n"
     },
     "metadata": {},
     "output_type": "display_data"
    },
    {
     "data": {
      "text/plain": "20:04:04.245 | \u001B[36mINFO\u001B[0m    | Flow run\u001B[35m 'sage-urchin'\u001B[0m - Finished in state \u001B[32mCompleted\u001B[0m()\n",
      "text/html": "<pre style=\"white-space:pre;overflow-x:auto;line-height:normal;font-family:Menlo,'DejaVu Sans Mono',consolas,'Courier New',monospace\">20:04:04.245 | <span style=\"color: #008080; text-decoration-color: #008080\">INFO</span>    | Flow run<span style=\"color: #800080; text-decoration-color: #800080\"> 'sage-urchin'</span> - Finished in state <span style=\"color: #008000; text-decoration-color: #008000\">Completed</span>()\n</pre>\n"
     },
     "metadata": {},
     "output_type": "display_data"
    }
   ],
   "source": [
    "import httpx\n",
    "from prefect import flow, get_run_logger\n",
    "\n",
    "\n",
    "@flow(name=\"toto2\")\n",
    "def get_repo_info(repo_name: str = \"PrefectHQ/prefect\"):\n",
    "    url = f\"https://api.github.com/repos/{repo_name}\"\n",
    "    response = httpx.get(url)\n",
    "    response.raise_for_status()\n",
    "    repo = response.json()\n",
    "    logger = get_run_logger()\n",
    "    logger.info(\"%s repository statistics 🤓:\", repo_name)\n",
    "    logger.info(f\"Stars 🌠 : %d\", repo[\"stargazers_count\"])\n",
    "    logger.info(f\"Forks 🍴 : %d\", repo[\"forks_count\"])\n",
    "\n",
    "\n",
    "get_repo_info()"
   ],
   "metadata": {
    "collapsed": false,
    "ExecuteTime": {
     "end_time": "2023-11-05T19:04:04.263195Z",
     "start_time": "2023-11-05T19:04:03.861549Z"
    }
   }
  },
  {
   "cell_type": "code",
   "execution_count": null,
   "outputs": [],
   "source": [],
   "metadata": {
    "collapsed": false
   }
  }
 ],
 "metadata": {
  "kernelspec": {
   "display_name": "Python 3 (ipykernel)",
   "language": "python",
   "name": "python3"
  },
  "language_info": {
   "codemirror_mode": {
    "name": "ipython",
    "version": 3
   },
   "file_extension": ".py",
   "mimetype": "text/x-python",
   "name": "python",
   "nbconvert_exporter": "python",
   "pygments_lexer": "ipython3",
   "version": "3.11.4"
  }
 },
 "nbformat": 4,
 "nbformat_minor": 4
}
